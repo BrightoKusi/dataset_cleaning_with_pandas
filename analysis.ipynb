{
 "cells": [
  {
   "cell_type": "code",
   "execution_count": 1,
   "metadata": {},
   "outputs": [],
   "source": [
    "import pandas as pd"
   ]
  },
  {
   "cell_type": "code",
   "execution_count": 2,
   "metadata": {},
   "outputs": [],
   "source": [
    "actual_travels = pd.read_csv('atravels.csv')\n",
    "\n",
    "actual_demography = pd.read_json('demography_dataset.json')"
   ]
  },
  {
   "cell_type": "code",
   "execution_count": 3,
   "metadata": {},
   "outputs": [],
   "source": [
    "travels = actual_travels.copy()\n",
    "demography = actual_demography.copy()"
   ]
  },
  {
   "cell_type": "code",
   "execution_count": 34,
   "metadata": {},
   "outputs": [],
   "source": [
    "def replace_odd_characters(text):\n",
    "    \"\"\"Replace ! \"\"\"\n",
    "    result = text.replace(' ','')\n",
    "    return result\n",
    "\n",
    "travels['State'] = travels['State'].apply(replace_odd_characters)"
   ]
  },
  {
   "cell_type": "code",
   "execution_count": null,
   "metadata": {},
   "outputs": [],
   "source": [
    "travels"
   ]
  },
  {
   "cell_type": "markdown",
   "metadata": {},
   "source": [
    "## How much was spent on travels by Troy Tippett? What state did he visit? What are the average household size and most common race found in that city?"
   ]
  },
  {
   "cell_type": "code",
   "execution_count": null,
   "metadata": {},
   "outputs": [],
   "source": [
    "troy =  travels[['Actual Total Expenses', 'State']][travels['Employee'] == 'Troy Tippett']\n",
    "\n",
    "troy"
   ]
  },
  {
   "cell_type": "code",
   "execution_count": null,
   "metadata": {},
   "outputs": [],
   "source": [
    "fl_demography = demography[['average_household_size', 'race']][demography['state'] == 'Florida']\n",
    "\n",
    "fl_demography\n",
    "\n",
    "fl_demography.drop_duplicates(keep='first')"
   ]
  },
  {
   "cell_type": "markdown",
   "metadata": {},
   "source": [
    "## How many of their employees visited Florida? What are the male and female population statistics?"
   ]
  },
  {
   "cell_type": "code",
   "execution_count": null,
   "metadata": {},
   "outputs": [],
   "source": [
    "fl_visits = travels[travels['State'] == 'FL'].count()\n",
    "\n",
    "fl_visits"
   ]
  },
  {
   "cell_type": "code",
   "execution_count": null,
   "metadata": {},
   "outputs": [],
   "source": [
    "fl_population = demography[['male_population', 'female_population','city']][demography['state'] == 'Florida']\n",
    "\n",
    "fl_population.drop_duplicates()"
   ]
  },
  {
   "cell_type": "markdown",
   "metadata": {},
   "source": [
    "## Which state has the most veterans? Which employees travelled there?"
   ]
  },
  {
   "cell_type": "code",
   "execution_count": null,
   "metadata": {},
   "outputs": [],
   "source": [
    "demography[['number_of_veterans']].max()\n",
    "\n"
   ]
  },
  {
   "cell_type": "code",
   "execution_count": null,
   "metadata": {},
   "outputs": [],
   "source": [
    "demography[['number_of_veterans', 'state']][demography['number_of_veterans'] == 156961.0].drop_duplicates()"
   ]
  },
  {
   "cell_type": "code",
   "execution_count": null,
   "metadata": {},
   "outputs": [],
   "source": [
    "## OR\n",
    "\n",
    "most_veterans = demography[['number_of_veterans', 'state']].sort_values(by= 'number_of_veterans', ascending= False)\n",
    "\n",
    "most_veterans.drop_duplicates()"
   ]
  },
  {
   "cell_type": "code",
   "execution_count": null,
   "metadata": {},
   "outputs": [],
   "source": [
    "## B.\n",
    "\n",
    "employees_in_newyork = travels[['Employee','State']][travels['State'] == 'NY']\n",
    "\n",
    "employees_in_newyork"
   ]
  },
  {
   "cell_type": "markdown",
   "metadata": {},
   "source": [
    "## What is the gender breakdown of the most populated city?"
   ]
  },
  {
   "cell_type": "code",
   "execution_count": null,
   "metadata": {},
   "outputs": [],
   "source": [
    "demography"
   ]
  },
  {
   "cell_type": "code",
   "execution_count": null,
   "metadata": {},
   "outputs": [],
   "source": [
    "demography[['total_population']].max()"
   ]
  },
  {
   "cell_type": "code",
   "execution_count": null,
   "metadata": {},
   "outputs": [],
   "source": [
    "most_populated_city = demography[['male_population', 'female_population', 'city']][demography['total_population'] == 8550405].drop_duplicates()\n",
    "\n",
    "most_populated_city"
   ]
  },
  {
   "cell_type": "markdown",
   "metadata": {},
   "source": [
    "## How many veterans exist in the state visited by Evan Clarke?\n"
   ]
  },
  {
   "cell_type": "code",
   "execution_count": null,
   "metadata": {},
   "outputs": [],
   "source": [
    "## Which state did he go to?\n",
    "\n",
    "evan_Clarke_info = travels[['State', 'Employee']][travels['Employee'] == 'Evan Clarke']\n",
    "\n",
    "evan_Clarke_info"
   ]
  },
  {
   "cell_type": "code",
   "execution_count": null,
   "metadata": {},
   "outputs": [],
   "source": [
    "veterans_in_MD = demography[['number_of_veterans', 'city', 'state']][demography['state'] == 'Maryland'].drop_duplicates()\n",
    "\n",
    "veterans_in_MD"
   ]
  }
 ],
 "metadata": {
  "kernelspec": {
   "display_name": "base",
   "language": "python",
   "name": "python3"
  },
  "language_info": {
   "codemirror_mode": {
    "name": "ipython",
    "version": 3
   },
   "file_extension": ".py",
   "mimetype": "text/x-python",
   "name": "python",
   "nbconvert_exporter": "python",
   "pygments_lexer": "ipython3",
   "version": "3.10.9"
  },
  "orig_nbformat": 4
 },
 "nbformat": 4,
 "nbformat_minor": 2
}
